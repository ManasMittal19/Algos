{
  "nbformat": 4,
  "nbformat_minor": 0,
  "metadata": {
    "colab": {
      "provenance": [],
      "authorship_tag": "ABX9TyPXABWftgcIp1hE7aj7IHZf",
      "include_colab_link": true
    },
    "kernelspec": {
      "name": "python3",
      "display_name": "Python 3"
    },
    "language_info": {
      "name": "python"
    }
  },
  "cells": [
    {
      "cell_type": "markdown",
      "metadata": {
        "id": "view-in-github",
        "colab_type": "text"
      },
      "source": [
        "<a href=\"https://colab.research.google.com/github/ManasMittal19/Algos/blob/Supervised-Learning/LinearRegressionScikitLearn.ipynb\" target=\"_parent\"><img src=\"https://colab.research.google.com/assets/colab-badge.svg\" alt=\"Open In Colab\"/></a>"
      ]
    },
    {
      "cell_type": "code",
      "execution_count": 42,
      "metadata": {
        "id": "CQ5uRUwJYtQT"
      },
      "outputs": [],
      "source": [
        "import pandas as pd\n",
        "import numpy as np\n",
        "import matplotlib.pyplot as plt\n",
        "\n",
        "from google.colab import drive"
      ]
    },
    {
      "cell_type": "code",
      "source": [
        "drive.mount('/content/drive')"
      ],
      "metadata": {
        "colab": {
          "base_uri": "https://localhost:8080/"
        },
        "id": "E363os8lZF0G",
        "outputId": "71a68410-3940-419e-8f52-32f382ccd18a"
      },
      "execution_count": 43,
      "outputs": [
        {
          "output_type": "stream",
          "name": "stdout",
          "text": [
            "Drive already mounted at /content/drive; to attempt to forcibly remount, call drive.mount(\"/content/drive\", force_remount=True).\n"
          ]
        }
      ]
    },
    {
      "cell_type": "code",
      "source": [
        "file_path = '/content/drive/MyDrive/IDBMS/50_Startups.csv'\n",
        "df = pd.read_csv(file_path)"
      ],
      "metadata": {
        "id": "QfUJxj35ZIf0"
      },
      "execution_count": 44,
      "outputs": []
    },
    {
      "cell_type": "code",
      "source": [
        "from sklearn.linear_model import SGDRegressor # this is used for regression\n",
        "from sklearn.preprocessing import StandardScaler # this is used for feature scaling"
      ],
      "metadata": {
        "id": "AEXOGnyFZWxb"
      },
      "execution_count": 45,
      "outputs": []
    },
    {
      "cell_type": "code",
      "source": [
        "x_train = df.iloc[:,0:3]\n",
        "print(x_train)\n",
        "x_feature = ['R&D Spend', 'Administration', 'Marketing Spend']\n",
        "y_train = df.iloc[: ,4]\n",
        "print(y_train)"
      ],
      "metadata": {
        "colab": {
          "base_uri": "https://localhost:8080/"
        },
        "id": "DS-ydAgsowDd",
        "outputId": "07e756b4-7298-44ea-ba8c-5f6e2af570e8"
      },
      "execution_count": 46,
      "outputs": [
        {
          "output_type": "stream",
          "name": "stdout",
          "text": [
            "    R&D Spend  Administration  Marketing Spend\n",
            "0   165349.20       136897.80        471784.10\n",
            "1   162597.70       151377.59        443898.53\n",
            "2   153441.51       101145.55        407934.54\n",
            "3   144372.41       118671.85        383199.62\n",
            "4   142107.34        91391.77        366168.42\n",
            "5   131876.90        99814.71        362861.36\n",
            "6   134615.46       147198.87        127716.82\n",
            "7   130298.13       145530.06        323876.68\n",
            "8   120542.52       148718.95        311613.29\n",
            "9   123334.88       108679.17        304981.62\n",
            "10  101913.08       110594.11        229160.95\n",
            "11  100671.96        91790.61        249744.55\n",
            "12   93863.75       127320.38        249839.44\n",
            "13   91992.39       135495.07        252664.93\n",
            "14  119943.24       156547.42        256512.92\n",
            "15  114523.61       122616.84        261776.23\n",
            "16   78013.11       121597.55        264346.06\n",
            "17   94657.16       145077.58        282574.31\n",
            "18   91749.16       114175.79        294919.57\n",
            "19   86419.70       153514.11             0.00\n",
            "20   76253.86       113867.30        298664.47\n",
            "21   78389.47       153773.43        299737.29\n",
            "22   73994.56       122782.75        303319.26\n",
            "23   67532.53       105751.03        304768.73\n",
            "24   77044.01        99281.34        140574.81\n",
            "25   64664.71       139553.16        137962.62\n",
            "26   75328.87       144135.98        134050.07\n",
            "27   72107.60       127864.55        353183.81\n",
            "28   66051.52       182645.56        118148.20\n",
            "29   65605.48       153032.06        107138.38\n",
            "30   61994.48       115641.28         91131.24\n",
            "31   61136.38       152701.92         88218.23\n",
            "32   63408.86       129219.61         46085.25\n",
            "33   55493.95       103057.49        214634.81\n",
            "34   46426.07       157693.92        210797.67\n",
            "35   46014.02        85047.44        205517.64\n",
            "36   28663.76       127056.21        201126.82\n",
            "37   44069.95        51283.14        197029.42\n",
            "38   20229.59        65947.93        185265.10\n",
            "39   38558.51        82982.09        174999.30\n",
            "40   28754.33       118546.05        172795.67\n",
            "41   27892.92        84710.77        164470.71\n",
            "42   23640.93        96189.63        148001.11\n",
            "43   15505.73       127382.30         35534.17\n",
            "44   22177.74       154806.14         28334.72\n",
            "45    1000.23       124153.04          1903.93\n",
            "46    1315.46       115816.21        297114.46\n",
            "47       0.00       135426.92             0.00\n",
            "48     542.05        51743.15             0.00\n",
            "49       0.00       116983.80         45173.06\n",
            "0     192261.83\n",
            "1     191792.06\n",
            "2     191050.39\n",
            "3     182901.99\n",
            "4     166187.94\n",
            "5     156991.12\n",
            "6     156122.51\n",
            "7     155752.60\n",
            "8     152211.77\n",
            "9     149759.96\n",
            "10    146121.95\n",
            "11    144259.40\n",
            "12    141585.52\n",
            "13    134307.35\n",
            "14    132602.65\n",
            "15    129917.04\n",
            "16    126992.93\n",
            "17    125370.37\n",
            "18    124266.90\n",
            "19    122776.86\n",
            "20    118474.03\n",
            "21    111313.02\n",
            "22    110352.25\n",
            "23    108733.99\n",
            "24    108552.04\n",
            "25    107404.34\n",
            "26    105733.54\n",
            "27    105008.31\n",
            "28    103282.38\n",
            "29    101004.64\n",
            "30     99937.59\n",
            "31     97483.56\n",
            "32     97427.84\n",
            "33     96778.92\n",
            "34     96712.80\n",
            "35     96479.51\n",
            "36     90708.19\n",
            "37     89949.14\n",
            "38     81229.06\n",
            "39     81005.76\n",
            "40     78239.91\n",
            "41     77798.83\n",
            "42     71498.49\n",
            "43     69758.98\n",
            "44     65200.33\n",
            "45     64926.08\n",
            "46     49490.75\n",
            "47     42559.73\n",
            "48     35673.41\n",
            "49     14681.40\n",
            "Name: Profit, dtype: float64\n"
          ]
        }
      ]
    },
    {
      "source": [
        "#doing feature scaling\n",
        "scaler = StandardScaler()"
      ],
      "cell_type": "code",
      "execution_count": 47,
      "outputs": [],
      "metadata": {
        "id": "WlmWyGVJaHRx"
      }
    },
    {
      "cell_type": "code",
      "source": [
        "x_norm = scaler.fit_transform(x_train)"
      ],
      "metadata": {
        "id": "Ks-lgf0BZXe2"
      },
      "execution_count": 48,
      "outputs": []
    },
    {
      "cell_type": "code",
      "source": [
        "print(x_norm)"
      ],
      "metadata": {
        "id": "J8n7Mc_Bpn-U",
        "colab": {
          "base_uri": "https://localhost:8080/"
        },
        "outputId": "c96c5bda-9d66-478e-92e0-0d8f52a6be32"
      },
      "execution_count": 49,
      "outputs": [
        {
          "output_type": "stream",
          "name": "stdout",
          "text": [
            "[[ 2.01641149e+00  5.60752915e-01  2.15394309e+00]\n",
            " [ 1.95586034e+00  1.08280658e+00  1.92360040e+00]\n",
            " [ 1.75436374e+00 -7.28257028e-01  1.62652767e+00]\n",
            " [ 1.55478369e+00 -9.63646307e-02  1.42221024e+00]\n",
            " [ 1.50493720e+00 -1.07991935e+00  1.28152771e+00]\n",
            " [ 1.27980001e+00 -7.76239071e-01  1.25421046e+00]\n",
            " [ 1.34006641e+00  9.32147208e-01 -6.88149930e-01]\n",
            " [ 1.24505666e+00  8.71980011e-01  9.32185978e-01]\n",
            " [ 1.03036886e+00  9.86952101e-01  8.30886909e-01]\n",
            " [ 1.09181921e+00 -4.56640246e-01  7.76107440e-01]\n",
            " [ 6.20398248e-01 -3.87599089e-01  1.49807267e-01]\n",
            " [ 5.93085418e-01 -1.06553960e+00  3.19833623e-01]\n",
            " [ 4.43259872e-01  2.15449064e-01  3.20617441e-01]\n",
            " [ 4.02077603e-01  5.10178953e-01  3.43956788e-01]\n",
            " [ 1.01718075e+00  1.26919939e+00  3.75742273e-01]\n",
            " [ 8.97913123e-01  4.58678535e-02  4.19218702e-01]\n",
            " [ 9.44411957e-02  9.11841968e-03  4.40446224e-01]\n",
            " [ 4.60720127e-01  8.55666318e-01  5.91016724e-01]\n",
            " [ 3.96724938e-01 -2.58465367e-01  6.92992062e-01]\n",
            " [ 2.79441650e-01  1.15983657e+00 -1.74312698e+00]\n",
            " [ 5.57260867e-02 -2.69587651e-01  7.23925995e-01]\n",
            " [ 1.02723599e-01  1.16918609e+00  7.32787791e-01]\n",
            " [ 6.00657792e-03  5.18495648e-02  7.62375876e-01]\n",
            " [-1.36200724e-01 -5.62211268e-01  7.74348908e-01]\n",
            " [ 7.31146008e-02 -7.95469167e-01 -5.81939297e-01]\n",
            " [-1.99311688e-01  6.56489139e-01 -6.03516725e-01]\n",
            " [ 3.53702028e-02  8.21717916e-01 -6.35835495e-01]\n",
            " [-3.55189938e-02  2.35068543e-01  1.17427116e+00]\n",
            " [-1.68792717e-01  2.21014050e+00 -7.67189437e-01]\n",
            " [-1.78608540e-01  1.14245677e+00 -8.58133663e-01]\n",
            " [-2.58074369e-01 -2.05628659e-01 -9.90357166e-01]\n",
            " [-2.76958231e-01  1.13055391e+00 -1.01441945e+00]\n",
            " [-2.26948675e-01  2.83923813e-01 -1.36244978e+00]\n",
            " [-4.01128925e-01 -6.59324033e-01  2.98172434e-02]\n",
            " [-6.00682122e-01  1.31053525e+00 -1.87861793e-03]\n",
            " [-6.09749941e-01 -1.30865753e+00 -4.54931587e-02]\n",
            " [-9.91570153e-01  2.05924691e-01 -8.17625734e-02]\n",
            " [-6.52532310e-01 -2.52599402e+00 -1.15608256e-01]\n",
            " [-1.17717755e+00 -1.99727037e+00 -2.12784866e-01]\n",
            " [-7.73820359e-01 -1.38312156e+00 -2.97583276e-01]\n",
            " [-9.89577015e-01 -1.00900218e-01 -3.15785883e-01]\n",
            " [-1.00853372e+00 -1.32079581e+00 -3.84552407e-01]\n",
            " [-1.10210556e+00 -9.06937535e-01 -5.20595959e-01]\n",
            " [-1.28113364e+00  2.17681524e-01 -1.44960468e+00]\n",
            " [-1.13430539e+00  1.20641936e+00 -1.50907418e+00]\n",
            " [-1.60035036e+00  1.01253936e-01 -1.72739998e+00]\n",
            " [-1.59341322e+00 -1.99321741e-01  7.11122474e-01]\n",
            " [-1.62236202e+00  5.07721876e-01 -1.74312698e+00]\n",
            " [-1.61043334e+00 -2.50940884e+00 -1.74312698e+00]\n",
            " [-1.62236202e+00 -1.57225506e-01 -1.36998473e+00]]\n"
          ]
        }
      ]
    },
    {
      "cell_type": "code",
      "source": [
        "# doing linear regression\n",
        "sgdr = SGDRegressor(max_iter=1000)\n",
        "sgdr.fit(x_norm, y_train)\n",
        "print(sgdr)\n",
        "print(f\"number of iterations completed: {sgdr.n_iter_}, number of weight updates: {sgdr.t_}\")"
      ],
      "metadata": {
        "colab": {
          "base_uri": "https://localhost:8080/"
        },
        "id": "aVjv_si5pwv2",
        "outputId": "cec603e8-1d60-4c69-a904-af2cf363b785"
      },
      "execution_count": 50,
      "outputs": [
        {
          "output_type": "stream",
          "name": "stdout",
          "text": [
            "SGDRegressor()\n",
            "number of iterations completed: 348, number of weight updates: 17401.0\n"
          ]
        }
      ]
    },
    {
      "cell_type": "code",
      "source": [
        "print(sgdr.__dict__)  # all the parameters that we have choosed"
      ],
      "metadata": {
        "colab": {
          "base_uri": "https://localhost:8080/"
        },
        "id": "goouI_LAsZYA",
        "outputId": "e7280d1e-83ef-477b-e6d8-bb4aa4990b9b"
      },
      "execution_count": 51,
      "outputs": [
        {
          "output_type": "stream",
          "name": "stdout",
          "text": [
            "{'loss': 'squared_error', 'penalty': 'l2', 'learning_rate': 'invscaling', 'epsilon': 0.1, 'alpha': 0.0001, 'C': 1.0, 'l1_ratio': 0.15, 'fit_intercept': True, 'shuffle': True, 'random_state': None, 'verbose': 0, 'eta0': 0.01, 'power_t': 0.25, 'early_stopping': False, 'validation_fraction': 0.1, 'n_iter_no_change': 5, 'warm_start': False, 'average': False, 'max_iter': 1000, 'tol': 0.001, 'coef_': array([36432.06211518,  -678.52302595,  3475.09386664]), 'intercept_': array([112013.13600271]), 't_': 17401.0, 'n_features_in_': 3, 'n_iter_': 348}\n"
          ]
        }
      ]
    },
    {
      "cell_type": "code",
      "source": [
        "# fetching the result\n",
        "b_norm = sgdr.intercept_\n",
        "\n",
        "w_norm = sgdr.coef_\n",
        "print(f\"model parameters w: {w_norm}, b:{b_norm}\")"
      ],
      "metadata": {
        "colab": {
          "base_uri": "https://localhost:8080/"
        },
        "id": "tJDtyYiGp94v",
        "outputId": "410a1ad4-47c1-48f5-a8c1-047b1515e394"
      },
      "execution_count": 52,
      "outputs": [
        {
          "output_type": "stream",
          "name": "stdout",
          "text": [
            "model parameters w: [36432.06211518  -678.52302595  3475.09386664], b:[112013.13600271]\n"
          ]
        }
      ]
    },
    {
      "cell_type": "code",
      "source": [
        "y_pred_sgd = sgdr.predict(x_norm) # prediction using inbuilt function\n",
        "# make a prediction using w,b.\n",
        "y_pred = np.dot(x_norm, w_norm) + b_norm # prediction using the caculated value\n",
        "print(y_pred , y_pred_sgd)\n",
        "\n",
        "print(f\"prediction using np.dot() and sgdr.predict match: {(y_pred == y_pred_sgd).all()}\")\n",
        "\n",
        "print(f\"Prediction on training set:\\n{y_pred[:4]}\" )\n",
        "print(f\"Target values \\n{y_train[:4]}\")"
      ],
      "metadata": {
        "colab": {
          "base_uri": "https://localhost:8080/"
        },
        "id": "zDosOKFlqP1v",
        "outputId": "0c4500da-bf3e-45c5-b205-00532f7c97de"
      },
      "execution_count": 53,
      "outputs": [
        {
          "output_type": "stream",
          "name": "stdout",
          "text": [
            "[192579.83542303 189219.14400573 182074.70010006 173664.81168207\n",
            " 172027.2809149  163524.08478215 157810.64959533 160020.89270969\n",
            " 151769.33861508 154797.24830044 135399.11273007 135454.90580299\n",
            " 129129.99573356 127510.76616088 149515.68678833 146151.66461547\n",
            " 116978.22842655 130271.36958755 129050.23074548 115349.26585043\n",
            " 116741.98446702 117508.75522933 114846.11463046 110123.47119749\n",
            " 113194.3021434  102209.07992558 110534.60287473 114640.30889445\n",
            " 101697.98272266 101748.7803145   99308.89423689  97630.66683979\n",
            "  98817.63804128  97950.16635697  89233.29089521  90528.5495342\n",
            "  75464.33333278  89552.23391502  69741.87697313  83725.6146218\n",
            "  74931.88224511  74830.00754309  70667.41603249  60153.58134614\n",
            "  64625.29372207  47637.49207672  56568.26832359  46505.11124075\n",
            "  48986.89019973  48252.99768949] [192579.83542303 189219.14400573 182074.70010006 173664.81168207\n",
            " 172027.2809149  163524.08478215 157810.64959533 160020.89270969\n",
            " 151769.33861508 154797.24830044 135399.11273007 135454.90580299\n",
            " 129129.99573356 127510.76616088 149515.68678833 146151.66461547\n",
            " 116978.22842655 130271.36958755 129050.23074548 115349.26585043\n",
            " 116741.98446702 117508.75522933 114846.11463046 110123.47119749\n",
            " 113194.3021434  102209.07992558 110534.60287473 114640.30889445\n",
            " 101697.98272266 101748.7803145   99308.89423689  97630.66683979\n",
            "  98817.63804128  97950.16635697  89233.29089521  90528.5495342\n",
            "  75464.33333278  89552.23391502  69741.87697313  83725.6146218\n",
            "  74931.88224511  74830.00754309  70667.41603249  60153.58134614\n",
            "  64625.29372207  47637.49207672  56568.26832359  46505.11124075\n",
            "  48986.89019973  48252.99768949]\n",
            "prediction using np.dot() and sgdr.predict match: True\n",
            "Prediction on training set:\n",
            "[192579.83542303 189219.14400573 182074.70010006 173664.81168207]\n",
            "Target values \n",
            "0    192261.83\n",
            "1    191792.06\n",
            "2    191050.39\n",
            "3    182901.99\n",
            "Name: Profit, dtype: float64\n"
          ]
        }
      ]
    },
    {
      "cell_type": "code",
      "source": [],
      "metadata": {
        "id": "dRMY3rJRvl3R"
      },
      "execution_count": null,
      "outputs": []
    },
    {
      "cell_type": "code",
      "source": [
        "fig,ax= plt.subplots(1,3,figsize=(12,3),sharey=True)\n",
        "for i in range(len(ax)):\n",
        "    ax[i].scatter(x_train.iloc[:,i],y_train,label = 'target')\n",
        "    ax[i].set_xlabel(x_feature[i])\n",
        "    ax[i].scatter(x_train.iloc[:,i],y_pred, label = 'predict')\n",
        "ax[0].set_ylabel(\"Price\"); ax[0].legend();\n",
        "fig.suptitle(\"target versus prediction using z-score normalized model\")\n",
        "plt.show()"
      ],
      "metadata": {
        "id": "ebrOXCaDqZ4p",
        "colab": {
          "base_uri": "https://localhost:8080/",
          "height": 275
        },
        "outputId": "19607f43-02ac-4b16-afc4-e20213c11dec"
      },
      "execution_count": 79,
      "outputs": [
        {
          "output_type": "display_data",
          "data": {
            "text/plain": [
              "<Figure size 1200x300 with 3 Axes>"
            ],
            "image/png": "[encoded data removed]"
          },
          "metadata": {}
        }
      ]
    },
    {
      "cell_type": "code",
      "source": [],
      "metadata": {
        "id": "U6HSCCNbtZNx"
      },
      "execution_count": null,
      "outputs": []
    }
  ]
}